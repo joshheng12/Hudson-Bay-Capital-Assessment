{
 "cells": [
  {
   "cell_type": "code",
   "execution_count": null,
   "id": "c00cc60a",
   "metadata": {},
   "outputs": [
    {
     "name": "stderr",
     "output_type": "stream",
     "text": [
      "C:\\Users\\hengj\\AppData\\Local\\Temp\\ipykernel_44908\\166039041.py:4: DtypeWarning: Columns (8,32) have mixed types. Specify dtype option on import or set low_memory=False.\n",
      "  df = pd.read_csv(r'C:\\Users\\hengj\\OneDrive - stevens.edu\\311_Service_Requests_from_2010_to_Present_20250729.csv')\n"
     ]
    }
   ],
   "source": [
    "import pandas as pd\n",
    "\n",
    "\n",
    "df = pd.read_csv(r'C:\\Users\\hengj\\OneDrive - stevens.edu\\311_Service_Requests_from_2010_to_Present_20250729.csv')\n"
   ]
  },
  {
   "cell_type": "code",
   "execution_count": 4,
   "id": "ffc00539",
   "metadata": {},
   "outputs": [
    {
     "name": "stdout",
     "output_type": "stream",
     "text": [
      "<class 'pandas.core.frame.DataFrame'>\n",
      "RangeIndex: 3450927 entries, 0 to 3450926\n",
      "Data columns (total 41 columns):\n",
      " #   Column                          Dtype  \n",
      "---  ------                          -----  \n",
      " 0   Unique Key                      int64  \n",
      " 1   Created Date                    object \n",
      " 2   Closed Date                     object \n",
      " 3   Agency                          object \n",
      " 4   Agency Name                     object \n",
      " 5   Complaint Type                  object \n",
      " 6   Descriptor                      object \n",
      " 7   Location Type                   object \n",
      " 8   Incident Zip                    object \n",
      " 9   Incident Address                object \n",
      " 10  Street Name                     object \n",
      " 11  Cross Street 1                  object \n",
      " 12  Cross Street 2                  object \n",
      " 13  Intersection Street 1           object \n",
      " 14  Intersection Street 2           object \n",
      " 15  Address Type                    object \n",
      " 16  City                            object \n",
      " 17  Landmark                        object \n",
      " 18  Facility Type                   object \n",
      " 19  Status                          object \n",
      " 20  Due Date                        object \n",
      " 21  Resolution Description          object \n",
      " 22  Resolution Action Updated Date  object \n",
      " 23  Community Board                 object \n",
      " 24  BBL                             float64\n",
      " 25  Borough                         object \n",
      " 26  X Coordinate (State Plane)      float64\n",
      " 27  Y Coordinate (State Plane)      float64\n",
      " 28  Open Data Channel Type          object \n",
      " 29  Park Facility Name              object \n",
      " 30  Park Borough                    object \n",
      " 31  Vehicle Type                    object \n",
      " 32  Taxi Company Borough            object \n",
      " 33  Taxi Pick Up Location           object \n",
      " 34  Bridge Highway Name             object \n",
      " 35  Bridge Highway Direction        object \n",
      " 36  Road Ramp                       object \n",
      " 37  Bridge Highway Segment          object \n",
      " 38  Latitude                        float64\n",
      " 39  Longitude                       float64\n",
      " 40  Location                        object \n",
      "dtypes: float64(5), int64(1), object(35)\n",
      "memory usage: 1.1+ GB\n"
     ]
    }
   ],
   "source": [
    "df.info()"
   ]
  },
  {
   "cell_type": "code",
   "execution_count": 5,
   "id": "86a1707a",
   "metadata": {},
   "outputs": [
    {
     "name": "stderr",
     "output_type": "stream",
     "text": [
      "C:\\Users\\hengj\\AppData\\Local\\Temp\\ipykernel_44908\\3628762263.py:1: UserWarning: Could not infer format, so each element will be parsed individually, falling back to `dateutil`. To ensure parsing is consistent and as-expected, please specify a format.\n",
      "  df['Created Date'] = pd.to_datetime(df['Created Date'])# Convert 'Created Date' to datetime format. to_datetime is a pandas function that converts a string or object to proper datetime.\n"
     ]
    }
   ],
   "source": [
    "df['Created Date'] = pd.to_datetime(df['Created Date'])# Convert 'Created Date' to datetime format. to_datetime is a pandas function that converts a string or object to proper datetime."
   ]
  },
  {
   "cell_type": "code",
   "execution_count": 28,
   "id": "f922cab8",
   "metadata": {},
   "outputs": [
    {
     "data": {
      "text/html": [
       "<div>\n",
       "<style scoped>\n",
       "    .dataframe tbody tr th:only-of-type {\n",
       "        vertical-align: middle;\n",
       "    }\n",
       "\n",
       "    .dataframe tbody tr th {\n",
       "        vertical-align: top;\n",
       "    }\n",
       "\n",
       "    .dataframe thead th {\n",
       "        text-align: right;\n",
       "    }\n",
       "</style>\n",
       "<table border=\"1\" class=\"dataframe\">\n",
       "  <thead>\n",
       "    <tr style=\"text-align: right;\">\n",
       "      <th></th>\n",
       "      <th>Unique Key</th>\n",
       "      <th>Created Date</th>\n",
       "      <th>Closed Date</th>\n",
       "      <th>Agency</th>\n",
       "      <th>Complaint Type</th>\n",
       "      <th>Descriptor</th>\n",
       "      <th>Location Type</th>\n",
       "      <th>Incident Zip</th>\n",
       "      <th>Incident Address</th>\n",
       "      <th>Street Name</th>\n",
       "      <th>...</th>\n",
       "      <th>Park Facility Name</th>\n",
       "      <th>Vehicle Type</th>\n",
       "      <th>Taxi Company Borough</th>\n",
       "      <th>Taxi Pick Up Location</th>\n",
       "      <th>Bridge Highway Name</th>\n",
       "      <th>Bridge Highway Direction</th>\n",
       "      <th>Road Ramp</th>\n",
       "      <th>Bridge Highway Segment</th>\n",
       "      <th>Location</th>\n",
       "      <th>Month Created</th>\n",
       "    </tr>\n",
       "  </thead>\n",
       "  <tbody>\n",
       "    <tr>\n",
       "      <th>0</th>\n",
       "      <td>63582299</td>\n",
       "      <td>2024-12-31 23:38:12</td>\n",
       "      <td>2025-01-01 00:07:40</td>\n",
       "      <td>NYPD</td>\n",
       "      <td>Blocked Driveway</td>\n",
       "      <td>No Access</td>\n",
       "      <td>Street/Sidewalk</td>\n",
       "      <td>11102.0</td>\n",
       "      <td>11-48 30 ROAD</td>\n",
       "      <td>30 ROAD</td>\n",
       "      <td>...</td>\n",
       "      <td>Unspecified</td>\n",
       "      <td>NaN</td>\n",
       "      <td>NaN</td>\n",
       "      <td>NaN</td>\n",
       "      <td>NaN</td>\n",
       "      <td>NaN</td>\n",
       "      <td>NaN</td>\n",
       "      <td>NaN</td>\n",
       "      <td>(40.77078063169057, -73.93316278651044)</td>\n",
       "      <td>12</td>\n",
       "    </tr>\n",
       "    <tr>\n",
       "      <th>1</th>\n",
       "      <td>63575634</td>\n",
       "      <td>2024-12-31 23:38:09</td>\n",
       "      <td>2024-12-31 23:51:56</td>\n",
       "      <td>NYPD</td>\n",
       "      <td>Noise - Commercial</td>\n",
       "      <td>Loud Music/Party</td>\n",
       "      <td>Store/Commercial</td>\n",
       "      <td>10031.0</td>\n",
       "      <td>1635 AMSTERDAM AVENUE</td>\n",
       "      <td>AMSTERDAM AVENUE</td>\n",
       "      <td>...</td>\n",
       "      <td>Unspecified</td>\n",
       "      <td>NaN</td>\n",
       "      <td>NaN</td>\n",
       "      <td>NaN</td>\n",
       "      <td>NaN</td>\n",
       "      <td>NaN</td>\n",
       "      <td>NaN</td>\n",
       "      <td>NaN</td>\n",
       "      <td>(40.822592971648255, -73.94952504515548)</td>\n",
       "      <td>12</td>\n",
       "    </tr>\n",
       "    <tr>\n",
       "      <th>2</th>\n",
       "      <td>63577417</td>\n",
       "      <td>2024-12-31 23:38:05</td>\n",
       "      <td>2025-01-01 00:11:32</td>\n",
       "      <td>NYPD</td>\n",
       "      <td>Noise - Residential</td>\n",
       "      <td>Banging/Pounding</td>\n",
       "      <td>Residential Building/House</td>\n",
       "      <td>11218.0</td>\n",
       "      <td>800 CONEY ISLAND AVENUE</td>\n",
       "      <td>CONEY ISLAND AVENUE</td>\n",
       "      <td>...</td>\n",
       "      <td>Unspecified</td>\n",
       "      <td>NaN</td>\n",
       "      <td>NaN</td>\n",
       "      <td>NaN</td>\n",
       "      <td>NaN</td>\n",
       "      <td>NaN</td>\n",
       "      <td>NaN</td>\n",
       "      <td>NaN</td>\n",
       "      <td>(40.63806987618295, -73.9684584184473)</td>\n",
       "      <td>12</td>\n",
       "    </tr>\n",
       "    <tr>\n",
       "      <th>3</th>\n",
       "      <td>63577977</td>\n",
       "      <td>2024-12-31 23:38:03</td>\n",
       "      <td>2025-01-01 09:02:06</td>\n",
       "      <td>NYPD</td>\n",
       "      <td>Noise - Residential</td>\n",
       "      <td>Loud Music/Party</td>\n",
       "      <td>Residential Building/House</td>\n",
       "      <td>10466.0</td>\n",
       "      <td>655 EAST  230 STREET</td>\n",
       "      <td>EAST  230 STREET</td>\n",
       "      <td>...</td>\n",
       "      <td>Unspecified</td>\n",
       "      <td>NaN</td>\n",
       "      <td>NaN</td>\n",
       "      <td>NaN</td>\n",
       "      <td>NaN</td>\n",
       "      <td>NaN</td>\n",
       "      <td>NaN</td>\n",
       "      <td>NaN</td>\n",
       "      <td>(40.89187241649303, -73.86016845296459)</td>\n",
       "      <td>12</td>\n",
       "    </tr>\n",
       "    <tr>\n",
       "      <th>4</th>\n",
       "      <td>63579342</td>\n",
       "      <td>2024-12-31 23:37:58</td>\n",
       "      <td>2025-01-01 00:42:20</td>\n",
       "      <td>NYPD</td>\n",
       "      <td>Noise - Residential</td>\n",
       "      <td>Loud Music/Party</td>\n",
       "      <td>Residential Building/House</td>\n",
       "      <td>11226.0</td>\n",
       "      <td>179 LINDEN BOULEVARD</td>\n",
       "      <td>LINDEN BOULEVARD</td>\n",
       "      <td>...</td>\n",
       "      <td>Unspecified</td>\n",
       "      <td>NaN</td>\n",
       "      <td>NaN</td>\n",
       "      <td>NaN</td>\n",
       "      <td>NaN</td>\n",
       "      <td>NaN</td>\n",
       "      <td>NaN</td>\n",
       "      <td>NaN</td>\n",
       "      <td>(40.65254011371671, -73.95184486671171)</td>\n",
       "      <td>12</td>\n",
       "    </tr>\n",
       "    <tr>\n",
       "      <th>...</th>\n",
       "      <td>...</td>\n",
       "      <td>...</td>\n",
       "      <td>...</td>\n",
       "      <td>...</td>\n",
       "      <td>...</td>\n",
       "      <td>...</td>\n",
       "      <td>...</td>\n",
       "      <td>...</td>\n",
       "      <td>...</td>\n",
       "      <td>...</td>\n",
       "      <td>...</td>\n",
       "      <td>...</td>\n",
       "      <td>...</td>\n",
       "      <td>...</td>\n",
       "      <td>...</td>\n",
       "      <td>...</td>\n",
       "      <td>...</td>\n",
       "      <td>...</td>\n",
       "      <td>...</td>\n",
       "      <td>...</td>\n",
       "      <td>...</td>\n",
       "    </tr>\n",
       "    <tr>\n",
       "      <th>3450922</th>\n",
       "      <td>59894535</td>\n",
       "      <td>2024-01-01 23:38:53</td>\n",
       "      <td>2024-01-06 16:41:13</td>\n",
       "      <td>HPD</td>\n",
       "      <td>UNSANITARY CONDITION</td>\n",
       "      <td>MOLD</td>\n",
       "      <td>RESIDENTIAL BUILDING</td>\n",
       "      <td>10459.0</td>\n",
       "      <td>950 WESTCHESTER AVENUE</td>\n",
       "      <td>WESTCHESTER AVENUE</td>\n",
       "      <td>...</td>\n",
       "      <td>Unspecified</td>\n",
       "      <td>NaN</td>\n",
       "      <td>NaN</td>\n",
       "      <td>NaN</td>\n",
       "      <td>NaN</td>\n",
       "      <td>NaN</td>\n",
       "      <td>NaN</td>\n",
       "      <td>NaN</td>\n",
       "      <td>(40.82238724077358, -73.89632611778347)</td>\n",
       "      <td>1</td>\n",
       "    </tr>\n",
       "    <tr>\n",
       "      <th>3450923</th>\n",
       "      <td>59897975</td>\n",
       "      <td>2024-01-01 23:38:53</td>\n",
       "      <td>2024-01-06 16:41:13</td>\n",
       "      <td>HPD</td>\n",
       "      <td>UNSANITARY CONDITION</td>\n",
       "      <td>PESTS</td>\n",
       "      <td>RESIDENTIAL BUILDING</td>\n",
       "      <td>10459.0</td>\n",
       "      <td>950 WESTCHESTER AVENUE</td>\n",
       "      <td>WESTCHESTER AVENUE</td>\n",
       "      <td>...</td>\n",
       "      <td>Unspecified</td>\n",
       "      <td>NaN</td>\n",
       "      <td>NaN</td>\n",
       "      <td>NaN</td>\n",
       "      <td>NaN</td>\n",
       "      <td>NaN</td>\n",
       "      <td>NaN</td>\n",
       "      <td>NaN</td>\n",
       "      <td>(40.82238724077358, -73.89632611778347)</td>\n",
       "      <td>1</td>\n",
       "    </tr>\n",
       "    <tr>\n",
       "      <th>3450924</th>\n",
       "      <td>59898486</td>\n",
       "      <td>2024-01-01 23:38:48</td>\n",
       "      <td>2024-01-02 00:32:56</td>\n",
       "      <td>NYPD</td>\n",
       "      <td>Noise - Residential</td>\n",
       "      <td>Banging/Pounding</td>\n",
       "      <td>Residential Building/House</td>\n",
       "      <td>11375.0</td>\n",
       "      <td>63-10 108 STREET</td>\n",
       "      <td>108 STREET</td>\n",
       "      <td>...</td>\n",
       "      <td>Unspecified</td>\n",
       "      <td>NaN</td>\n",
       "      <td>NaN</td>\n",
       "      <td>NaN</td>\n",
       "      <td>NaN</td>\n",
       "      <td>NaN</td>\n",
       "      <td>NaN</td>\n",
       "      <td>NaN</td>\n",
       "      <td>(40.734694673156454, -73.85052125577377)</td>\n",
       "      <td>1</td>\n",
       "    </tr>\n",
       "    <tr>\n",
       "      <th>3450925</th>\n",
       "      <td>59894488</td>\n",
       "      <td>2024-01-01 23:38:37</td>\n",
       "      <td>2024-01-04 06:30:19</td>\n",
       "      <td>HPD</td>\n",
       "      <td>HEAT/HOT WATER</td>\n",
       "      <td>ENTIRE BUILDING</td>\n",
       "      <td>RESIDENTIAL BUILDING</td>\n",
       "      <td>11223.0</td>\n",
       "      <td>1800 OCEAN PARKWAY</td>\n",
       "      <td>OCEAN PARKWAY</td>\n",
       "      <td>...</td>\n",
       "      <td>Unspecified</td>\n",
       "      <td>NaN</td>\n",
       "      <td>NaN</td>\n",
       "      <td>NaN</td>\n",
       "      <td>NaN</td>\n",
       "      <td>NaN</td>\n",
       "      <td>NaN</td>\n",
       "      <td>NaN</td>\n",
       "      <td>(40.60486018113993, -73.96681750400715)</td>\n",
       "      <td>1</td>\n",
       "    </tr>\n",
       "    <tr>\n",
       "      <th>3450926</th>\n",
       "      <td>59900491</td>\n",
       "      <td>2024-01-01 23:38:24</td>\n",
       "      <td>2024-01-02 20:18:19</td>\n",
       "      <td>HPD</td>\n",
       "      <td>HEAT/HOT WATER</td>\n",
       "      <td>ENTIRE BUILDING</td>\n",
       "      <td>RESIDENTIAL BUILDING</td>\n",
       "      <td>10037.0</td>\n",
       "      <td>465 LENOX AVENUE</td>\n",
       "      <td>LENOX AVENUE</td>\n",
       "      <td>...</td>\n",
       "      <td>Unspecified</td>\n",
       "      <td>NaN</td>\n",
       "      <td>NaN</td>\n",
       "      <td>NaN</td>\n",
       "      <td>NaN</td>\n",
       "      <td>NaN</td>\n",
       "      <td>NaN</td>\n",
       "      <td>NaN</td>\n",
       "      <td>(40.81288398511282, -73.94176538373816)</td>\n",
       "      <td>1</td>\n",
       "    </tr>\n",
       "  </tbody>\n",
       "</table>\n",
       "<p>3450927 rows × 30 columns</p>\n",
       "</div>"
      ],
      "text/plain": [
       "         Unique Key        Created Date         Closed Date Agency  \\\n",
       "0          63582299 2024-12-31 23:38:12 2025-01-01 00:07:40   NYPD   \n",
       "1          63575634 2024-12-31 23:38:09 2024-12-31 23:51:56   NYPD   \n",
       "2          63577417 2024-12-31 23:38:05 2025-01-01 00:11:32   NYPD   \n",
       "3          63577977 2024-12-31 23:38:03 2025-01-01 09:02:06   NYPD   \n",
       "4          63579342 2024-12-31 23:37:58 2025-01-01 00:42:20   NYPD   \n",
       "...             ...                 ...                 ...    ...   \n",
       "3450922    59894535 2024-01-01 23:38:53 2024-01-06 16:41:13    HPD   \n",
       "3450923    59897975 2024-01-01 23:38:53 2024-01-06 16:41:13    HPD   \n",
       "3450924    59898486 2024-01-01 23:38:48 2024-01-02 00:32:56   NYPD   \n",
       "3450925    59894488 2024-01-01 23:38:37 2024-01-04 06:30:19    HPD   \n",
       "3450926    59900491 2024-01-01 23:38:24 2024-01-02 20:18:19    HPD   \n",
       "\n",
       "               Complaint Type        Descriptor               Location Type  \\\n",
       "0            Blocked Driveway         No Access             Street/Sidewalk   \n",
       "1          Noise - Commercial  Loud Music/Party            Store/Commercial   \n",
       "2         Noise - Residential  Banging/Pounding  Residential Building/House   \n",
       "3         Noise - Residential  Loud Music/Party  Residential Building/House   \n",
       "4         Noise - Residential  Loud Music/Party  Residential Building/House   \n",
       "...                       ...               ...                         ...   \n",
       "3450922  UNSANITARY CONDITION              MOLD        RESIDENTIAL BUILDING   \n",
       "3450923  UNSANITARY CONDITION             PESTS        RESIDENTIAL BUILDING   \n",
       "3450924   Noise - Residential  Banging/Pounding  Residential Building/House   \n",
       "3450925        HEAT/HOT WATER   ENTIRE BUILDING        RESIDENTIAL BUILDING   \n",
       "3450926        HEAT/HOT WATER   ENTIRE BUILDING        RESIDENTIAL BUILDING   \n",
       "\n",
       "        Incident Zip         Incident Address          Street Name  ...  \\\n",
       "0            11102.0            11-48 30 ROAD              30 ROAD  ...   \n",
       "1            10031.0    1635 AMSTERDAM AVENUE     AMSTERDAM AVENUE  ...   \n",
       "2            11218.0  800 CONEY ISLAND AVENUE  CONEY ISLAND AVENUE  ...   \n",
       "3            10466.0     655 EAST  230 STREET     EAST  230 STREET  ...   \n",
       "4            11226.0     179 LINDEN BOULEVARD     LINDEN BOULEVARD  ...   \n",
       "...              ...                      ...                  ...  ...   \n",
       "3450922      10459.0   950 WESTCHESTER AVENUE   WESTCHESTER AVENUE  ...   \n",
       "3450923      10459.0   950 WESTCHESTER AVENUE   WESTCHESTER AVENUE  ...   \n",
       "3450924      11375.0         63-10 108 STREET           108 STREET  ...   \n",
       "3450925      11223.0       1800 OCEAN PARKWAY        OCEAN PARKWAY  ...   \n",
       "3450926      10037.0         465 LENOX AVENUE         LENOX AVENUE  ...   \n",
       "\n",
       "        Park Facility Name Vehicle Type Taxi Company Borough  \\\n",
       "0              Unspecified          NaN                  NaN   \n",
       "1              Unspecified          NaN                  NaN   \n",
       "2              Unspecified          NaN                  NaN   \n",
       "3              Unspecified          NaN                  NaN   \n",
       "4              Unspecified          NaN                  NaN   \n",
       "...                    ...          ...                  ...   \n",
       "3450922        Unspecified          NaN                  NaN   \n",
       "3450923        Unspecified          NaN                  NaN   \n",
       "3450924        Unspecified          NaN                  NaN   \n",
       "3450925        Unspecified          NaN                  NaN   \n",
       "3450926        Unspecified          NaN                  NaN   \n",
       "\n",
       "        Taxi Pick Up Location Bridge Highway Name Bridge Highway Direction  \\\n",
       "0                         NaN                 NaN                      NaN   \n",
       "1                         NaN                 NaN                      NaN   \n",
       "2                         NaN                 NaN                      NaN   \n",
       "3                         NaN                 NaN                      NaN   \n",
       "4                         NaN                 NaN                      NaN   \n",
       "...                       ...                 ...                      ...   \n",
       "3450922                   NaN                 NaN                      NaN   \n",
       "3450923                   NaN                 NaN                      NaN   \n",
       "3450924                   NaN                 NaN                      NaN   \n",
       "3450925                   NaN                 NaN                      NaN   \n",
       "3450926                   NaN                 NaN                      NaN   \n",
       "\n",
       "        Road Ramp  Bridge Highway Segment  \\\n",
       "0             NaN                     NaN   \n",
       "1             NaN                     NaN   \n",
       "2             NaN                     NaN   \n",
       "3             NaN                     NaN   \n",
       "4             NaN                     NaN   \n",
       "...           ...                     ...   \n",
       "3450922       NaN                     NaN   \n",
       "3450923       NaN                     NaN   \n",
       "3450924       NaN                     NaN   \n",
       "3450925       NaN                     NaN   \n",
       "3450926       NaN                     NaN   \n",
       "\n",
       "                                         Location Month Created  \n",
       "0         (40.77078063169057, -73.93316278651044)            12  \n",
       "1        (40.822592971648255, -73.94952504515548)            12  \n",
       "2          (40.63806987618295, -73.9684584184473)            12  \n",
       "3         (40.89187241649303, -73.86016845296459)            12  \n",
       "4         (40.65254011371671, -73.95184486671171)            12  \n",
       "...                                           ...           ...  \n",
       "3450922   (40.82238724077358, -73.89632611778347)             1  \n",
       "3450923   (40.82238724077358, -73.89632611778347)             1  \n",
       "3450924  (40.734694673156454, -73.85052125577377)             1  \n",
       "3450925   (40.60486018113993, -73.96681750400715)             1  \n",
       "3450926   (40.81288398511282, -73.94176538373816)             1  \n",
       "\n",
       "[3450927 rows x 30 columns]"
      ]
     },
     "execution_count": 28,
     "metadata": {},
     "output_type": "execute_result"
    }
   ],
   "source": [
    "df"
   ]
  },
  {
   "cell_type": "code",
   "execution_count": 6,
   "id": "5de9510e",
   "metadata": {},
   "outputs": [
    {
     "name": "stderr",
     "output_type": "stream",
     "text": [
      "C:\\Users\\hengj\\AppData\\Local\\Temp\\ipykernel_44908\\1196474082.py:1: UserWarning: Could not infer format, so each element will be parsed individually, falling back to `dateutil`. To ensure parsing is consistent and as-expected, please specify a format.\n",
      "  df['Closed Date'] = pd.to_datetime(df['Closed Date'])\n"
     ]
    }
   ],
   "source": [
    "df['Closed Date'] = pd.to_datetime(df['Closed Date'])"
   ]
  },
  {
   "cell_type": "code",
   "execution_count": 7,
   "id": "9f68a353",
   "metadata": {},
   "outputs": [
    {
     "data": {
      "text/plain": [
       "Unique Key                        3450927\n",
       "Created Date                      3450927\n",
       "Closed Date                       3378621\n",
       "Agency                            3450927\n",
       "Agency Name                       3450927\n",
       "Complaint Type                    3450927\n",
       "Descriptor                        3338991\n",
       "Location Type                     3034484\n",
       "Incident Zip                      3416604\n",
       "Incident Address                  3330854\n",
       "Street Name                       3330732\n",
       "Cross Street 1                    2467096\n",
       "Cross Street 2                    2467328\n",
       "Intersection Street 1             2323331\n",
       "Intersection Street 2             2324791\n",
       "Address Type                      3436825\n",
       "City                              3289697\n",
       "Landmark                          2083885\n",
       "Facility Type                       14057\n",
       "Status                            3450927\n",
       "Due Date                            19575\n",
       "Resolution Description            3380226\n",
       "Resolution Action Updated Date    3435937\n",
       "Community Board                   3450927\n",
       "BBL                               3073637\n",
       "Borough                           3450927\n",
       "X Coordinate (State Plane)        3397436\n",
       "Y Coordinate (State Plane)        3397575\n",
       "Open Data Channel Type            3450927\n",
       "Park Facility Name                3446607\n",
       "Park Borough                      3450927\n",
       "Vehicle Type                       161249\n",
       "Taxi Company Borough                 2180\n",
       "Taxi Pick Up Location               37208\n",
       "Bridge Highway Name                 21146\n",
       "Bridge Highway Direction            11524\n",
       "Road Ramp                            8446\n",
       "Bridge Highway Segment              21101\n",
       "Latitude                          3397413\n",
       "Longitude                         3397413\n",
       "Location                          3397413\n",
       "dtype: int64"
      ]
     },
     "execution_count": 7,
     "metadata": {},
     "output_type": "execute_result"
    }
   ],
   "source": [
    "df.count()"
   ]
  },
  {
   "cell_type": "code",
   "execution_count": null,
   "id": "72f8d4c1",
   "metadata": {},
   "outputs": [],
   "source": [
    "df.drop(labels='Due Date',axis=1, inplace=True) #axis=1 reprsents columns and axis=0 represents rows. Inplace=True means that the changes will be applied to the original DataFrame df, rather than creating a new one."
   ]
  },
  {
   "cell_type": "code",
   "execution_count": 9,
   "id": "77653c98",
   "metadata": {},
   "outputs": [],
   "source": [
    "df.drop(labels='Agency Name',axis=1, inplace=True)"
   ]
  },
  {
   "cell_type": "code",
   "execution_count": 10,
   "id": "ab1265ed",
   "metadata": {},
   "outputs": [],
   "source": [
    "df.drop(labels='Cross Street 1',axis=1, inplace=True)"
   ]
  },
  {
   "cell_type": "code",
   "execution_count": 11,
   "id": "c2232d5c",
   "metadata": {},
   "outputs": [],
   "source": [
    "df.drop(labels='Cross Street 2',axis=1, inplace=True)"
   ]
  },
  {
   "cell_type": "code",
   "execution_count": 12,
   "id": "c4cbfe90",
   "metadata": {},
   "outputs": [],
   "source": [
    "df.drop(labels='Address Type',axis=1, inplace=True)"
   ]
  },
  {
   "cell_type": "code",
   "execution_count": 13,
   "id": "985601c0",
   "metadata": {},
   "outputs": [],
   "source": [
    "df.drop(labels='Resolution Description',axis=1, inplace=True)"
   ]
  },
  {
   "cell_type": "code",
   "execution_count": 14,
   "id": "b01df800",
   "metadata": {},
   "outputs": [],
   "source": [
    "df.drop(labels='Resolution Action Updated Date',axis=1, inplace=True)"
   ]
  },
  {
   "cell_type": "code",
   "execution_count": 15,
   "id": "f8a46520",
   "metadata": {},
   "outputs": [],
   "source": [
    "df.drop(labels='X Coordinate (State Plane)',axis=1, inplace=True)"
   ]
  },
  {
   "cell_type": "code",
   "execution_count": 16,
   "id": "ef0c3d6c",
   "metadata": {},
   "outputs": [],
   "source": [
    "df.drop(labels='Y Coordinate (State Plane)',axis=1, inplace=True)"
   ]
  },
  {
   "cell_type": "code",
   "execution_count": 17,
   "id": "78b2442d",
   "metadata": {},
   "outputs": [],
   "source": [
    "df.drop(labels='Latitude',axis=1, inplace=True)"
   ]
  },
  {
   "cell_type": "code",
   "execution_count": 18,
   "id": "23d2faca",
   "metadata": {},
   "outputs": [],
   "source": [
    "df.drop(labels='Longitude',axis=1, inplace=True)"
   ]
  },
  {
   "cell_type": "code",
   "execution_count": 19,
   "id": "7ec15863",
   "metadata": {},
   "outputs": [],
   "source": [
    "df.drop(labels='Park Borough',axis=1, inplace=True)"
   ]
  },
  {
   "cell_type": "code",
   "execution_count": 20,
   "id": "8da5bc66",
   "metadata": {},
   "outputs": [],
   "source": [
    "df['Month Created']=df['Created Date'].dt.month # Extract the month from 'Created Date' and create a new column 'Month Created'"
   ]
  },
  {
   "cell_type": "code",
   "execution_count": 21,
   "id": "dc23fe03",
   "metadata": {},
   "outputs": [
    {
     "name": "stdout",
     "output_type": "stream",
     "text": [
      "<class 'pandas.core.frame.DataFrame'>\n",
      "RangeIndex: 3450927 entries, 0 to 3450926\n",
      "Data columns (total 30 columns):\n",
      " #   Column                    Dtype         \n",
      "---  ------                    -----         \n",
      " 0   Unique Key                int64         \n",
      " 1   Created Date              datetime64[ns]\n",
      " 2   Closed Date               datetime64[ns]\n",
      " 3   Agency                    object        \n",
      " 4   Complaint Type            object        \n",
      " 5   Descriptor                object        \n",
      " 6   Location Type             object        \n",
      " 7   Incident Zip              object        \n",
      " 8   Incident Address          object        \n",
      " 9   Street Name               object        \n",
      " 10  Intersection Street 1     object        \n",
      " 11  Intersection Street 2     object        \n",
      " 12  City                      object        \n",
      " 13  Landmark                  object        \n",
      " 14  Facility Type             object        \n",
      " 15  Status                    object        \n",
      " 16  Community Board           object        \n",
      " 17  BBL                       float64       \n",
      " 18  Borough                   object        \n",
      " 19  Open Data Channel Type    object        \n",
      " 20  Park Facility Name        object        \n",
      " 21  Vehicle Type              object        \n",
      " 22  Taxi Company Borough      object        \n",
      " 23  Taxi Pick Up Location     object        \n",
      " 24  Bridge Highway Name       object        \n",
      " 25  Bridge Highway Direction  object        \n",
      " 26  Road Ramp                 object        \n",
      " 27  Bridge Highway Segment    object        \n",
      " 28  Location                  object        \n",
      " 29  Month Created             int32         \n",
      "dtypes: datetime64[ns](2), float64(1), int32(1), int64(1), object(25)\n",
      "memory usage: 776.7+ MB\n"
     ]
    }
   ],
   "source": [
    "df.info()"
   ]
  },
  {
   "cell_type": "code",
   "execution_count": 22,
   "id": "acb4db39",
   "metadata": {},
   "outputs": [
    {
     "data": {
      "text/plain": [
       "Unique Key                  3450927\n",
       "Created Date                3450927\n",
       "Closed Date                 3378621\n",
       "Agency                      3450927\n",
       "Complaint Type              3450927\n",
       "Descriptor                  3338991\n",
       "Location Type               3034484\n",
       "Incident Zip                3416604\n",
       "Incident Address            3330854\n",
       "Street Name                 3330732\n",
       "Intersection Street 1       2323331\n",
       "Intersection Street 2       2324791\n",
       "City                        3289697\n",
       "Landmark                    2083885\n",
       "Facility Type                 14057\n",
       "Status                      3450927\n",
       "Community Board             3450927\n",
       "BBL                         3073637\n",
       "Borough                     3450927\n",
       "Open Data Channel Type      3450927\n",
       "Park Facility Name          3446607\n",
       "Vehicle Type                 161249\n",
       "Taxi Company Borough           2180\n",
       "Taxi Pick Up Location         37208\n",
       "Bridge Highway Name           21146\n",
       "Bridge Highway Direction      11524\n",
       "Road Ramp                      8446\n",
       "Bridge Highway Segment        21101\n",
       "Location                    3397413\n",
       "Month Created               3450927\n",
       "dtype: int64"
      ]
     },
     "execution_count": 22,
     "metadata": {},
     "output_type": "execute_result"
    }
   ],
   "source": [
    "df.count()"
   ]
  },
  {
   "cell_type": "code",
   "execution_count": 23,
   "id": "13919f17",
   "metadata": {},
   "outputs": [
    {
     "data": {
      "text/plain": [
       "Month Created\n",
       "12    313793\n",
       "9     306973\n",
       "10    306860\n",
       "6     306407\n",
       "7     299269\n",
       "11    293560\n",
       "8     285183\n",
       "5     284102\n",
       "1     280018\n",
       "4     267608\n",
       "3     266700\n",
       "2     240454\n",
       "Name: count, dtype: int64"
      ]
     },
     "execution_count": 23,
     "metadata": {},
     "output_type": "execute_result"
    }
   ],
   "source": [
    "df['Month Created'].value_counts()"
   ]
  },
  {
   "cell_type": "code",
   "execution_count": 27,
   "id": "b5d888a8",
   "metadata": {},
   "outputs": [
    {
     "name": "stdout",
     "output_type": "stream",
     "text": [
      "<class 'pandas.core.frame.DataFrame'>\n",
      "RangeIndex: 3450927 entries, 0 to 3450926\n",
      "Data columns (total 30 columns):\n",
      " #   Column                    Dtype         \n",
      "---  ------                    -----         \n",
      " 0   unique_key                int64         \n",
      " 1   created_date              datetime64[ns]\n",
      " 2   closed_date               datetime64[ns]\n",
      " 3   agency                    object        \n",
      " 4   complaint_type            object        \n",
      " 5   descriptor                object        \n",
      " 6   location_type             object        \n",
      " 7   incident_zip              object        \n",
      " 8   incident_address          object        \n",
      " 9   street_name               object        \n",
      " 10  intersection_street_1     object        \n",
      " 11  intersection_street_2     object        \n",
      " 12  city                      object        \n",
      " 13  landmark                  object        \n",
      " 14  facility_type             object        \n",
      " 15  status                    object        \n",
      " 16  community_board           object        \n",
      " 17  bbl                       float64       \n",
      " 18  borough                   object        \n",
      " 19  open_data_channel_type    object        \n",
      " 20  park_facility_name        object        \n",
      " 21  Vehicle Type              object        \n",
      " 22  taxi_company_borough      object        \n",
      " 23  taxi_pick_up_location     object        \n",
      " 24  bridge_highway_name       object        \n",
      " 25  bridge_highway_direction  object        \n",
      " 26  road_ramp                 object        \n",
      " 27  bridge_highway_segment    object        \n",
      " 28  location                  object        \n",
      " 29  month_created             int32         \n",
      "dtypes: datetime64[ns](2), float64(1), int32(1), int64(1), object(25)\n",
      "memory usage: 776.7+ MB\n"
     ]
    }
   ],
   "source": [
    "df.info()"
   ]
  },
  {
   "cell_type": "code",
   "execution_count": 24,
   "id": "093742ea",
   "metadata": {},
   "outputs": [],
   "source": [
    "df_renamed = df.rename(columns={'Created Date': 'created_date', 'Closed Date': 'closed_date', 'Complaint Type': 'complaint_type', 'Descriptor': 'descriptor', 'Incident Zip': 'incident_zip', 'Incident Address': 'incident_address', 'City': 'city', 'Borough': 'borough', 'Status': 'status', 'Community Board': 'community_board', 'BBL': 'bbl', 'Borough': 'borough', 'Open Data Channel Type': 'open_data_channel_type', 'Park Facility Name': 'park_facility_name'}, inplace=True)"
   ]
  },
  {
   "cell_type": "code",
   "execution_count": 25,
   "id": "4bf7fbb4",
   "metadata": {},
   "outputs": [],
   "source": [
    "df.rename(columns = {'closed_D=date' : 'closed_date', 'Unique Key':'unique_key','Agency': 'agency', 'Location Type':'location_type','Street Name':'street_name', 'Facility Type':'facility_type', 'Landmkar':'landmark', 'Vechile Type':'vechile_type','Taxi Company Borough':'taxi_company_borough','Taxi Pick Up Location': 'taxi_pick_up_location','Bridge Highway Name':'bridge_highway_name','Bridge Highway Direction':'bridge_highway_direction','Road Ramp':'road_ramp','Bridge Highway Segment':'bridge_highway_segment','Location':'location','Month Created':'month_created'}, inplace=True)"
   ]
  },
  {
   "cell_type": "code",
   "execution_count": 26,
   "id": "bb6bdd07",
   "metadata": {},
   "outputs": [],
   "source": [
    "df.rename(columns={'Intersection Street 1': 'intersection_street_1','Intersection Street 2':'intersection_street_2', 'Landmark':'landmark'}, inplace=True)"
   ]
  },
  {
   "cell_type": "code",
   "execution_count": 28,
   "id": "b2531432",
   "metadata": {},
   "outputs": [],
   "source": [
    "df.rename(columns={'Vehicle Type': 'vehicle_type'}, inplace=True)"
   ]
  },
  {
   "cell_type": "code",
   "execution_count": 29,
   "id": "17c9e51e",
   "metadata": {},
   "outputs": [],
   "source": [
    "df.to_csv(\"cleaned.csv\", index=False)"
   ]
  },
  {
   "cell_type": "code",
   "execution_count": 30,
   "id": "7b1ccc93",
   "metadata": {},
   "outputs": [
    {
     "name": "stdout",
     "output_type": "stream",
     "text": [
      "<class 'pandas.core.frame.DataFrame'>\n",
      "RangeIndex: 3450927 entries, 0 to 3450926\n",
      "Data columns (total 30 columns):\n",
      " #   Column                    Dtype         \n",
      "---  ------                    -----         \n",
      " 0   unique_key                int64         \n",
      " 1   created_date              datetime64[ns]\n",
      " 2   closed_date               datetime64[ns]\n",
      " 3   agency                    object        \n",
      " 4   complaint_type            object        \n",
      " 5   descriptor                object        \n",
      " 6   location_type             object        \n",
      " 7   incident_zip              object        \n",
      " 8   incident_address          object        \n",
      " 9   street_name               object        \n",
      " 10  intersection_street_1     object        \n",
      " 11  intersection_street_2     object        \n",
      " 12  city                      object        \n",
      " 13  landmark                  object        \n",
      " 14  facility_type             object        \n",
      " 15  status                    object        \n",
      " 16  community_board           object        \n",
      " 17  bbl                       float64       \n",
      " 18  borough                   object        \n",
      " 19  open_data_channel_type    object        \n",
      " 20  park_facility_name        object        \n",
      " 21  vehicle_type              object        \n",
      " 22  taxi_company_borough      object        \n",
      " 23  taxi_pick_up_location     object        \n",
      " 24  bridge_highway_name       object        \n",
      " 25  bridge_highway_direction  object        \n",
      " 26  road_ramp                 object        \n",
      " 27  bridge_highway_segment    object        \n",
      " 28  location                  object        \n",
      " 29  month_created             int32         \n",
      "dtypes: datetime64[ns](2), float64(1), int32(1), int64(1), object(25)\n",
      "memory usage: 776.7+ MB\n"
     ]
    }
   ],
   "source": [
    "df.info()"
   ]
  },
  {
   "cell_type": "code",
   "execution_count": 32,
   "id": "b61e743b",
   "metadata": {},
   "outputs": [
    {
     "data": {
      "text/plain": [
       "borough\n",
       "BROOKLYN         1043704\n",
       "QUEENS            825577\n",
       "BRONX             736698\n",
       "MANHATTAN         721363\n",
       "STATEN ISLAND     120951\n",
       "Unspecified         2634\n",
       "Name: count, dtype: int64"
      ]
     },
     "execution_count": 32,
     "metadata": {},
     "output_type": "execute_result"
    }
   ],
   "source": [
    "df['borough'].value_counts()"
   ]
  },
  {
   "cell_type": "code",
   "execution_count": null,
   "id": "639533c8",
   "metadata": {},
   "outputs": [],
   "source": []
  }
 ],
 "metadata": {
  "kernelspec": {
   "display_name": ".venv",
   "language": "python",
   "name": "python3"
  },
  "language_info": {
   "codemirror_mode": {
    "name": "ipython",
    "version": 3
   },
   "file_extension": ".py",
   "mimetype": "text/x-python",
   "name": "python",
   "nbconvert_exporter": "python",
   "pygments_lexer": "ipython3",
   "version": "3.12.6"
  }
 },
 "nbformat": 4,
 "nbformat_minor": 5
}
